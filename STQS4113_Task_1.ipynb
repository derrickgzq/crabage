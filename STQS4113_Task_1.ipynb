{
  "nbformat": 4,
  "nbformat_minor": 0,
  "metadata": {
    "colab": {
      "provenance": [],
      "authorship_tag": "ABX9TyMYhXBDDi+iS83W/S/GP7he",
      "include_colab_link": true
    },
    "kernelspec": {
      "name": "ir",
      "display_name": "R"
    },
    "language_info": {
      "name": "R"
    }
  },
  "cells": [
    {
      "cell_type": "markdown",
      "metadata": {
        "id": "view-in-github",
        "colab_type": "text"
      },
      "source": [
        "<a href=\"https://colab.research.google.com/github/derrickgzq/crabage/blob/main/STQS4113_Task_1.ipynb\" target=\"_parent\"><img src=\"https://colab.research.google.com/assets/colab-badge.svg\" alt=\"Open In Colab\"/></a>"
      ]
    },
    {
      "cell_type": "markdown",
      "source": [
        "Install the required libraries"
      ],
      "metadata": {
        "id": "gu0WCEnQFjlY"
      }
    },
    {
      "cell_type": "code",
      "source": [
        "install.packages(\"aplpack\")\n",
        "install.packages(\"plotly\")"
      ],
      "metadata": {
        "colab": {
          "base_uri": "https://localhost:8080/",
          "height": 0
        },
        "id": "7ksxfP6sHNvk",
        "outputId": "0518eb1e-e2ee-454c-d08c-cb71e551f42d"
      },
      "execution_count": 19,
      "outputs": [
        {
          "output_type": "stream",
          "name": "stderr",
          "text": [
            "Installing package into ‘/usr/local/lib/R/site-library’\n",
            "(as ‘lib’ is unspecified)\n",
            "\n",
            "Installing package into ‘/usr/local/lib/R/site-library’\n",
            "(as ‘lib’ is unspecified)\n",
            "\n",
            "also installing the dependencies ‘later’, ‘Rcpp’, ‘htmlwidgets’, ‘lazyeval’, ‘crosstalk’, ‘promises’\n",
            "\n",
            "\n"
          ]
        }
      ]
    },
    {
      "cell_type": "markdown",
      "source": [
        "Import the libraries"
      ],
      "metadata": {
        "id": "zak9LJmtFmEU"
      }
    },
    {
      "cell_type": "code",
      "source": [
        "library(readr)\n",
        "library(aplpack)\n",
        "library(plotly)"
      ],
      "metadata": {
        "id": "5g3YgoyKFCv_"
      },
      "execution_count": 3,
      "outputs": []
    },
    {
      "cell_type": "markdown",
      "source": [
        "Read the data stored from github"
      ],
      "metadata": {
        "id": "v4K0pAgmFoJ6"
      }
    },
    {
      "cell_type": "code",
      "execution_count": 4,
      "metadata": {
        "colab": {
          "base_uri": "https://localhost:8080/",
          "height": 0
        },
        "id": "50fWnbKSEHxG",
        "outputId": "2d4c1d77-4633-4058-d648-4e59b228bb22"
      },
      "outputs": [
        {
          "output_type": "stream",
          "name": "stderr",
          "text": [
            "\u001b[1mRows: \u001b[22m\u001b[34m3893\u001b[39m \u001b[1mColumns: \u001b[22m\u001b[34m9\u001b[39m\n",
            "\u001b[36m──\u001b[39m \u001b[1mColumn specification\u001b[22m \u001b[36m────────────────────────────────────────────────────────\u001b[39m\n",
            "\u001b[1mDelimiter:\u001b[22m \",\"\n",
            "\u001b[31mchr\u001b[39m (1): Sex\n",
            "\u001b[32mdbl\u001b[39m (8): Length, Diameter, Height, Weight, Shucked Weight, Viscera Weight, S...\n",
            "\n",
            "\u001b[36mℹ\u001b[39m Use `spec()` to retrieve the full column specification for this data.\n",
            "\u001b[36mℹ\u001b[39m Specify the column types or set `show_col_types = FALSE` to quiet this message.\n"
          ]
        }
      ],
      "source": [
        "ldf = read_csv('https://raw.githubusercontent.com/derrickgzq/crabage/main/CrabAgePrediction.csv')"
      ]
    },
    {
      "cell_type": "markdown",
      "source": [
        "Convert the tsibble to matrix"
      ],
      "metadata": {
        "id": "q5a_-CfqFscn"
      }
    },
    {
      "cell_type": "code",
      "source": [
        "df = as.matrix(ldf)"
      ],
      "metadata": {
        "id": "yXLHr-3IFcgb"
      },
      "execution_count": 8,
      "outputs": []
    },
    {
      "cell_type": "code",
      "source": [
        "head(df)"
      ],
      "metadata": {
        "colab": {
          "base_uri": "https://localhost:8080/",
          "height": 255
        },
        "id": "ZnkjXPRzFewR",
        "outputId": "2ac8bba4-4ae1-4dc6-d007-8e5f6b80265e"
      },
      "execution_count": 9,
      "outputs": [
        {
          "output_type": "display_data",
          "data": {
            "text/html": [
              "<table class=\"dataframe\">\n",
              "<caption>A matrix: 6 × 9 of type chr</caption>\n",
              "<thead>\n",
              "\t<tr><th scope=col>Sex</th><th scope=col>Length</th><th scope=col>Diameter</th><th scope=col>Height</th><th scope=col>Weight</th><th scope=col>Shucked Weight</th><th scope=col>Viscera Weight</th><th scope=col>Shell Weight</th><th scope=col>Age</th></tr>\n",
              "</thead>\n",
              "<tbody>\n",
              "\t<tr><td>F</td><td>1.4375</td><td>1.1750</td><td>0.4125</td><td>24.6357155</td><td>12.33203250</td><td> 5.58485150</td><td> 6.74718100</td><td> 9</td></tr>\n",
              "\t<tr><td>M</td><td>0.8875</td><td>0.6500</td><td>0.2125</td><td> 5.4005798</td><td> 2.29630950</td><td> 1.37495075</td><td> 1.55922250</td><td> 6</td></tr>\n",
              "\t<tr><td>I</td><td>1.0375</td><td>0.7750</td><td>0.2500</td><td> 7.9520348</td><td> 3.23184300</td><td> 1.60174675</td><td> 2.76407625</td><td> 6</td></tr>\n",
              "\t<tr><td>F</td><td>1.1750</td><td>0.8875</td><td>0.2500</td><td>13.4801873</td><td> 4.74854125</td><td> 2.28213475</td><td> 5.24465750</td><td>10</td></tr>\n",
              "\t<tr><td>I</td><td>0.8875</td><td>0.6625</td><td>0.2125</td><td> 6.9031033</td><td> 3.45863900</td><td> 1.48834875</td><td> 1.70097000</td><td> 6</td></tr>\n",
              "\t<tr><td>F</td><td>1.5500</td><td>1.1625</td><td>0.3500</td><td>28.6613445</td><td>13.57941050</td><td> 6.76135575</td><td> 7.22912250</td><td> 8</td></tr>\n",
              "</tbody>\n",
              "</table>\n"
            ],
            "text/markdown": "\nA matrix: 6 × 9 of type chr\n\n| Sex | Length | Diameter | Height | Weight | Shucked Weight | Viscera Weight | Shell Weight | Age |\n|---|---|---|---|---|---|---|---|---|\n| F | 1.4375 | 1.1750 | 0.4125 | 24.6357155 | 12.33203250 |  5.58485150 |  6.74718100 |  9 |\n| M | 0.8875 | 0.6500 | 0.2125 |  5.4005798 |  2.29630950 |  1.37495075 |  1.55922250 |  6 |\n| I | 1.0375 | 0.7750 | 0.2500 |  7.9520348 |  3.23184300 |  1.60174675 |  2.76407625 |  6 |\n| F | 1.1750 | 0.8875 | 0.2500 | 13.4801873 |  4.74854125 |  2.28213475 |  5.24465750 | 10 |\n| I | 0.8875 | 0.6625 | 0.2125 |  6.9031033 |  3.45863900 |  1.48834875 |  1.70097000 |  6 |\n| F | 1.5500 | 1.1625 | 0.3500 | 28.6613445 | 13.57941050 |  6.76135575 |  7.22912250 |  8 |\n\n",
            "text/latex": "A matrix: 6 × 9 of type chr\n\\begin{tabular}{lllllllll}\n Sex & Length & Diameter & Height & Weight & Shucked Weight & Viscera Weight & Shell Weight & Age\\\\\n\\hline\n\t F & 1.4375 & 1.1750 & 0.4125 & 24.6357155 & 12.33203250 &  5.58485150 &  6.74718100 &  9\\\\\n\t M & 0.8875 & 0.6500 & 0.2125 &  5.4005798 &  2.29630950 &  1.37495075 &  1.55922250 &  6\\\\\n\t I & 1.0375 & 0.7750 & 0.2500 &  7.9520348 &  3.23184300 &  1.60174675 &  2.76407625 &  6\\\\\n\t F & 1.1750 & 0.8875 & 0.2500 & 13.4801873 &  4.74854125 &  2.28213475 &  5.24465750 & 10\\\\\n\t I & 0.8875 & 0.6625 & 0.2125 &  6.9031033 &  3.45863900 &  1.48834875 &  1.70097000 &  6\\\\\n\t F & 1.5500 & 1.1625 & 0.3500 & 28.6613445 & 13.57941050 &  6.76135575 &  7.22912250 &  8\\\\\n\\end{tabular}\n",
            "text/plain": [
              "     Sex Length Diameter Height Weight     Shucked Weight Viscera Weight\n",
              "[1,] F   1.4375 1.1750   0.4125 24.6357155 12.33203250     5.58485150   \n",
              "[2,] M   0.8875 0.6500   0.2125  5.4005798  2.29630950     1.37495075   \n",
              "[3,] I   1.0375 0.7750   0.2500  7.9520348  3.23184300     1.60174675   \n",
              "[4,] F   1.1750 0.8875   0.2500 13.4801873  4.74854125     2.28213475   \n",
              "[5,] I   0.8875 0.6625   0.2125  6.9031033  3.45863900     1.48834875   \n",
              "[6,] F   1.5500 1.1625   0.3500 28.6613445 13.57941050     6.76135575   \n",
              "     Shell Weight Age\n",
              "[1,]  6.74718100   9 \n",
              "[2,]  1.55922250   6 \n",
              "[3,]  2.76407625   6 \n",
              "[4,]  5.24465750  10 \n",
              "[5,]  1.70097000   6 \n",
              "[6,]  7.22912250   8 "
            ]
          },
          "metadata": {}
        }
      ]
    },
    {
      "cell_type": "markdown",
      "source": [
        "Scatterplot matrix"
      ],
      "metadata": {
        "id": "JMQXpdw0F6hs"
      }
    },
    {
      "cell_type": "code",
      "source": [
        "pairs(df[2:8], main = \"Anderson's Iris Data -- 3 species\",\n",
        "      pch = 21, bg = c(\"red\", \"blue\")[unclass(df['Sex'])])"
      ],
      "metadata": {
        "colab": {
          "base_uri": "https://localhost:8080/",
          "height": 210
        },
        "id": "EJpRAO5KF78m",
        "outputId": "6bcbb93e-2a20-400e-f97d-0d38a7ee2e5f"
      },
      "execution_count": 11,
      "outputs": [
        {
          "output_type": "error",
          "ename": "ERROR",
          "evalue": "ignored",
          "traceback": [
            "Error in pairs.default(df[2:8], main = \"Anderson's Iris Data -- 3 species\", : non-numeric argument to 'pairs'\nTraceback:\n",
            "1. pairs(df[2:8], main = \"Anderson's Iris Data -- 3 species\", pch = 21, \n .     bg = c(\"red\", \"blue\")[unclass(df[\"Sex\"])])",
            "2. pairs.default(df[2:8], main = \"Anderson's Iris Data -- 3 species\", \n .     pch = 21, bg = c(\"red\", \"blue\")[unclass(df[\"Sex\"])])",
            "3. stop(\"non-numeric argument to 'pairs'\")"
          ]
        }
      ]
    },
    {
      "cell_type": "markdown",
      "source": [
        "Starplot"
      ],
      "metadata": {
        "id": "bTHhBpKxGfrh"
      }
    },
    {
      "cell_type": "code",
      "source": [
        "stars(mtcars[, 1:7], len = 0.8, key.loc = c(12, 2),\n",
        "      main = \"Motor Trend Cars\", full = FALSE)"
      ],
      "metadata": {
        "id": "u-Y2RFmEGfMx"
      },
      "execution_count": null,
      "outputs": []
    },
    {
      "cell_type": "markdown",
      "source": [
        "Chernoff faces"
      ],
      "metadata": {
        "id": "avVna9wwGn8P"
      }
    },
    {
      "cell_type": "code",
      "source": [
        "faces(iris[,-5], labels=iris$Species,print.info=FALSE,cex=0.8,scale=TRUE)"
      ],
      "metadata": {
        "id": "C28zUVCtGl9J"
      },
      "execution_count": null,
      "outputs": []
    },
    {
      "cell_type": "markdown",
      "source": [
        "Bubbleplot"
      ],
      "metadata": {
        "id": "KlM1g7atGqB8"
      }
    },
    {
      "cell_type": "code",
      "source": [
        "data <- read.csv(\"https://raw.githubusercontent.com/plotly/datasets/master/school_earnings.csv\")\n",
        "\n",
        "fig <- plot_ly(data, x = ~Women, y = ~Men, text = ~School, type = 'scatter', mode = 'markers',\n",
        "        marker = list(size = ~Gap, opacity = 0.5))\n",
        "fig <- fig %>% layout(title = 'Gender Gap in Earnings per University',\n",
        "         xaxis = list(showgrid = FALSE),\n",
        "         yaxis = list(showgrid = FALSE))"
      ],
      "metadata": {
        "id": "Vmf8_vaPGuS1"
      },
      "execution_count": null,
      "outputs": []
    },
    {
      "cell_type": "markdown",
      "source": [
        "Heatmap"
      ],
      "metadata": {
        "id": "tIJBmD1vGwnz"
      }
    },
    {
      "cell_type": "code",
      "source": [
        "item = as.matrix(df[,-1])\n"
      ],
      "metadata": {
        "id": "etMUzEisGwXF"
      },
      "execution_count": 16,
      "outputs": []
    },
    {
      "cell_type": "code",
      "source": [
        "heatmap(item)"
      ],
      "metadata": {
        "colab": {
          "base_uri": "https://localhost:8080/",
          "height": 158
        },
        "id": "_fguo6CXHG6V",
        "outputId": "80eed0c5-2385-4cc5-8501-bd04f1a27f1c"
      },
      "execution_count": 18,
      "outputs": [
        {
          "output_type": "error",
          "ename": "ERROR",
          "evalue": "ignored",
          "traceback": [
            "Error in heatmap(item): 'x' must be a numeric matrix\nTraceback:\n",
            "1. heatmap(item)",
            "2. stop(\"'x' must be a numeric matrix\")"
          ]
        }
      ]
    }
  ]
}